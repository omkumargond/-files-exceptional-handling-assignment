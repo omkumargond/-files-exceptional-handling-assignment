{
  "nbformat": 4,
  "nbformat_minor": 0,
  "metadata": {
    "colab": {
      "provenance": []
    },
    "kernelspec": {
      "name": "python3",
      "display_name": "Python 3"
    },
    "language_info": {
      "name": "python"
    }
  },
  "cells": [
    {
      "cell_type": "markdown",
      "source": [
        "#Files, exceptional handling, logging and memory management Questions"
      ],
      "metadata": {
        "id": "10jlc71BU5tl"
      }
    },
    {
      "cell_type": "markdown",
      "source": [
        "1. What is the difference between interpreted and compiled languages?\n",
        "- The difference between interpreted and compiled languages lies in how the code you write is translated into machine code (which the computer can understand and execute).\n",
        "Compiled = Translated before run,\n",
        "Interpreted = Translated while running.\n",
        "\n",
        "2. What is exception handling in Python?\n",
        "- It uses try, except, else, and finally blocks to catch and handle errors.\n",
        "\n",
        "3. What is the purpose of the finally block in exception handling?\n",
        "- The finally block in Python is used to write code that should always run, no matter if there is an error or not.\n",
        "\n",
        "4. What is logging in Python?\n",
        "- Logging in Python means keeping a record of what your program is doing — like errors, warnings, or important events.\n",
        "\n",
        "5.  What is the significance of the __del__ method in Python?\n",
        "- The __del__ method in Python is a special method called when an object is deleted or destroyed.\n",
        "\n",
        "6. What is the difference between import and from ... import in Python?\n",
        "- Both import and from ... import are used to bring code from other files or modules into your program.\n",
        "\n",
        "7. How can you handle multiple exceptions in Python?\n",
        "- You can handle multiple exceptions in Python using multiple except blocks or by grouping them in one except block.\n",
        "\n",
        "\n",
        "8. What is the purpose of the with statement when handling files in Python?\n",
        "- The with statement in Python is used to open and work with files easily and safely.\n",
        "\n",
        "9. What is the difference between multithreading and multiprocessing?\n",
        "- The difference between multithreading and multiprocessing.\n",
        "\n",
        " Multithreading = many tasks in one process (shared memory)\n",
        "\n",
        " Multiprocessing = many tasks in different processes (separate memory)\n",
        "\n",
        "10. What are the advantages of using logging in a program?\n",
        "- Advantages of Using Logging in a Program:\n",
        "Helps track what the program is doing\n",
        "\n",
        " Records errors and warnings for easier debugging\n",
        "\n",
        " Keeps history of events for later analysis\n",
        "\n",
        " Can be saved to files for future reference\n",
        "\n",
        "11. What is memory management in Python?\n",
        "- Memory management in Python means how Python handles and organizes the use of memory while the program runs.\n",
        "\n",
        "12. What are the basic steps involved in exception handling in Python?\n",
        "- The basic steps in Python exception handling are:\n",
        "\n",
        " Write code inside a try block — this is the code that might cause an error.\n",
        "\n",
        " Use except block(s) to catch and handle specific errors.\n",
        "\n",
        " (Optional) Use else block to run code if no error happens.\n",
        "\n",
        " (Optional) Use finally block to run code that should always run, no matter what.\n",
        "\n",
        "13. Why is memory management important in Python?\n",
        "- Good memory management helps Python programs stay fast and stable without running out of memory.\n",
        "\n",
        "14. What is the role of try and except in exception handling?\n",
        "- The try block is where you write code that might cause an error.\n",
        "\n",
        " The except block is where you handle the error if it happens, so the program doesn’t crash.\n",
        "\n",
        "15. How does Python's garbage collection system work?\n",
        "- Python’s garbage collection (GC) automatically frees memory by deleting objects that are no longer needed.\n",
        "\n",
        "16. What is the purpose of the else block in exception handling?\n",
        "- The else block in exception handling runs only if no error happens in the try block.\n",
        "\n",
        "17. What are the common logging levels in Python?\n",
        "- Python has these common logging levels, from lowest to highest severity:\n",
        "\n",
        " DEBUG – Detailed info, used for diagnosing problems\n",
        "\n",
        " INFO – General information about program running\n",
        "\n",
        " WARNING – Something unexpected happened, but program still works\n",
        "\n",
        " ERROR – A serious problem happened, some part of program failed\n",
        "\n",
        " CRITICAL – Very serious error, program might crash\n",
        "\n",
        "18. What is the difference between os.fork() and multiprocessing in Python?\n",
        "-  os.fork() is a low-level way to create a new process by duplicating the current one (Unix only).\n",
        "\n",
        " multiprocessing is a high-level, cross-platform module to create and manage processes easily.\n",
        "\n",
        "19. What is the importance of closing a file in Python?\n",
        "- Always close a file after using it to keep your data safe and your program efficient!\n",
        "\n",
        "20. What is the difference between file.read() and file.readline() in Python?\n",
        "- read() = read all,\n",
        "readline() = read one line at a time.\n",
        "\n",
        "21. What is the logging module in Python used for?\n",
        "- The logging module in Python is used to record messages from your program, like errors, warnings, or info.\n",
        "22. What is the os module in Python used for in file handling0\n",
        "- The os module in Python is used for working with files and folders at the operating system level.\n",
        "23. What are the challenges associated with memory management in Python?\n",
        "- Memory management is mostly automatic but can be tricky with cycles, leaks, and performance issues.\n",
        "24. How do you raise an exception manually in Python?\n",
        "- You can raise an exception manually in Python using the raise keyword.\n",
        "25. Why is it important to use multithreading in certain applications?\n",
        "- Multithreading is important because it lets a program do many tasks at the same time without waiting."
      ],
      "metadata": {
        "id": "WbcG0EugJyuB"
      }
    },
    {
      "cell_type": "markdown",
      "source": [
        "#Practical Questions"
      ],
      "metadata": {
        "id": "iPlRLypIVHRF"
      }
    },
    {
      "cell_type": "code",
      "source": [
        "#1. How can you open a file for writing in Python and write a string to it?\n",
        "'''\n",
        "with open(\"file.txt\", \"w\") as file:\n",
        "    file.write(\"Hello, world!\")\n",
        "'''"
      ],
      "metadata": {
        "colab": {
          "base_uri": "https://localhost:8080/",
          "height": 35
        },
        "id": "O09vg5zhVSOr",
        "outputId": "c3c4de3a-1df4-4839-a329-bd17ae59cb62"
      },
      "execution_count": 1,
      "outputs": [
        {
          "output_type": "execute_result",
          "data": {
            "text/plain": [
              "'\\nwith open(\"file.txt\", \"w\") as file:\\n    file.write(\"Hello, world!\")\\n'"
            ],
            "application/vnd.google.colaboratory.intrinsic+json": {
              "type": "string"
            }
          },
          "metadata": {},
          "execution_count": 1
        }
      ]
    },
    {
      "cell_type": "code",
      "source": [
        "#2.  Write a Python program to read the contents of a file and print each line.\n",
        "'''\n",
        "with open(\"file.txt\", \"r\") as file:\n",
        "    for line in file:\n",
        "        print(line, end='')\n",
        "'''\n"
      ],
      "metadata": {
        "colab": {
          "base_uri": "https://localhost:8080/",
          "height": 35
        },
        "id": "948B69W-Vkti",
        "outputId": "fcdfd952-a813-43da-c2d3-81702ba80736"
      },
      "execution_count": 2,
      "outputs": [
        {
          "output_type": "execute_result",
          "data": {
            "text/plain": [
              "'\\nwith open(\"file.txt\", \"r\") as file:\\n    for line in file:\\n        print(line, end=\\'\\')\\n'"
            ],
            "application/vnd.google.colaboratory.intrinsic+json": {
              "type": "string"
            }
          },
          "metadata": {},
          "execution_count": 2
        }
      ]
    },
    {
      "cell_type": "code",
      "source": [
        "#3. How would you handle a case where the file doesn't exist while trying to open it for reading?\n",
        "'''\n",
        "try:\n",
        "    with open(\"file.txt\", \"r\") as file:\n",
        "        for line in file:\n",
        "            print(line, end='')\n",
        "except FileNotFoundError:\n",
        "    print(\"File not found!\")\n",
        "'''"
      ],
      "metadata": {
        "colab": {
          "base_uri": "https://localhost:8080/",
          "height": 53
        },
        "id": "Unr1Q61kV2e0",
        "outputId": "49efc28c-0781-4db2-b92c-be27122e4739"
      },
      "execution_count": 3,
      "outputs": [
        {
          "output_type": "execute_result",
          "data": {
            "text/plain": [
              "'\\ntry:\\n    with open(\"file.txt\", \"r\") as file:\\n        for line in file:\\n            print(line, end=\\'\\')\\nexcept FileNotFoundError:\\n    print(\"File not found!\")\\n'"
            ],
            "application/vnd.google.colaboratory.intrinsic+json": {
              "type": "string"
            }
          },
          "metadata": {},
          "execution_count": 3
        }
      ]
    },
    {
      "cell_type": "code",
      "source": [
        "#4.  Write a Python script that reads from one file and writes its content to another file.\n",
        "'''\n",
        "with open(\"source.txt\", \"r\") as src, open(\"destination.txt\", \"w\") as dest:\n",
        "    for line in src:\n",
        "        dest.write(line)\n",
        "'''\n"
      ],
      "metadata": {
        "colab": {
          "base_uri": "https://localhost:8080/",
          "height": 35
        },
        "id": "-u4KinOHWCaS",
        "outputId": "34e325ab-a0ea-484c-a30e-65f18a1c4445"
      },
      "execution_count": 4,
      "outputs": [
        {
          "output_type": "execute_result",
          "data": {
            "text/plain": [
              "'\\nwith open(\"source.txt\", \"r\") as src, open(\"destination.txt\", \"w\") as dest:\\n    for line in src:\\n        dest.write(line)\\n'"
            ],
            "application/vnd.google.colaboratory.intrinsic+json": {
              "type": "string"
            }
          },
          "metadata": {},
          "execution_count": 4
        }
      ]
    },
    {
      "cell_type": "code",
      "source": [
        "#5. How would you catch and handle division by zero error in Python?\n",
        "'''\n",
        "try:\n",
        "    result = 10 / 0\n",
        "except ZeroDivisionError:\n",
        "    print(\"Cannot divide by zero!\")\n",
        "'''"
      ],
      "metadata": {
        "colab": {
          "base_uri": "https://localhost:8080/",
          "height": 35
        },
        "id": "kWlcfvdTWPFl",
        "outputId": "7e3200cf-fd31-4858-8f4d-ef000c0f5054"
      },
      "execution_count": 5,
      "outputs": [
        {
          "output_type": "execute_result",
          "data": {
            "text/plain": [
              "'\\ntry:\\n    result = 10 / 0\\nexcept ZeroDivisionError:\\n    print(\"Cannot divide by zero!\")\\n'"
            ],
            "application/vnd.google.colaboratory.intrinsic+json": {
              "type": "string"
            }
          },
          "metadata": {},
          "execution_count": 5
        }
      ]
    },
    {
      "cell_type": "code",
      "source": [
        "#6. Write a Python program that logs an error message to a log file when a division by zero exception occurs.\n",
        "'''\n",
        "import logging\n",
        "\n",
        "logging.basicConfig(filename='error.log', level=logging.ERROR)\n",
        "\n",
        "try:\n",
        "    result = 10 / 0\n",
        "except ZeroDivisionError as e:\n",
        "    logging.error(\"Division by zero error occurred: %s\", e)\n",
        "'''"
      ],
      "metadata": {
        "colab": {
          "base_uri": "https://localhost:8080/",
          "height": 53
        },
        "id": "QMpslqIBWYCB",
        "outputId": "c6b8d8e7-1fa9-4870-dfb1-3fa6843d7194"
      },
      "execution_count": 6,
      "outputs": [
        {
          "output_type": "execute_result",
          "data": {
            "text/plain": [
              "'\\nimport logging\\n\\nlogging.basicConfig(filename=\\'error.log\\', level=logging.ERROR)\\n\\ntry:\\n    result = 10 / 0\\nexcept ZeroDivisionError as e:\\n    logging.error(\"Division by zero error occurred: %s\", e)\\n'"
            ],
            "application/vnd.google.colaboratory.intrinsic+json": {
              "type": "string"
            }
          },
          "metadata": {},
          "execution_count": 6
        }
      ]
    },
    {
      "cell_type": "code",
      "source": [
        "#7. How do you log information at different levels (INFO, ERROR, WARNING) in Python using the logging module?\n",
        "'''\n",
        "import logging\n",
        "\n",
        "logging.basicConfig(level=logging.DEBUG)  # Set minimum level to capture all\n",
        "\n",
        "logging.info(\"This is an info message\")\n",
        "logging.warning(\"This is a warning message\")\n",
        "logging.error(\"This is an error message\")\n",
        "'''"
      ],
      "metadata": {
        "colab": {
          "base_uri": "https://localhost:8080/",
          "height": 53
        },
        "id": "MPBn1EZOWr7h",
        "outputId": "66e52f98-0bf1-42cb-93f8-eb9800da6626"
      },
      "execution_count": 7,
      "outputs": [
        {
          "output_type": "execute_result",
          "data": {
            "text/plain": [
              "'\\nimport logging\\n\\nlogging.basicConfig(level=logging.DEBUG)  # Set minimum level to capture all\\n\\nlogging.info(\"This is an info message\")\\nlogging.warning(\"This is a warning message\")\\nlogging.error(\"This is an error message\")\\n'"
            ],
            "application/vnd.google.colaboratory.intrinsic+json": {
              "type": "string"
            }
          },
          "metadata": {},
          "execution_count": 7
        }
      ]
    },
    {
      "cell_type": "code",
      "source": [
        "#8. Write a program to handle a file opening error using exception handling.\n",
        "'''\n",
        "try:\n",
        "    with open(\"myfile.txt\", \"r\") as file:\n",
        "        content = file.read()\n",
        "        print(content)\n",
        "except FileNotFoundError:\n",
        "    print(\"Error: The file does not exist.\")\n",
        "except IOError:\n",
        "    print(\"Error: Could not read the file.\")\n",
        "'''"
      ],
      "metadata": {
        "colab": {
          "base_uri": "https://localhost:8080/",
          "height": 53
        },
        "id": "Lei-4-2nXDvJ",
        "outputId": "4f8d6bff-279e-4126-b09b-46baf7cb3f45"
      },
      "execution_count": 8,
      "outputs": [
        {
          "output_type": "execute_result",
          "data": {
            "text/plain": [
              "'\\ntry:\\n    with open(\"myfile.txt\", \"r\") as file:\\n        content = file.read()\\n        print(content)\\nexcept FileNotFoundError:\\n    print(\"Error: The file does not exist.\")\\nexcept IOError:\\n    print(\"Error: Could not read the file.\")\\n'"
            ],
            "application/vnd.google.colaboratory.intrinsic+json": {
              "type": "string"
            }
          },
          "metadata": {},
          "execution_count": 8
        }
      ]
    },
    {
      "cell_type": "code",
      "source": [
        "#9. How can you read a file line by line and store its content in a list in Python?\n",
        "'''\n",
        "with open(\"file.txt\", \"r\") as file:\n",
        "    lines = file.readlines()  # Reads all lines into a list\n",
        "\n",
        "print(lines)\n",
        "'''"
      ],
      "metadata": {
        "colab": {
          "base_uri": "https://localhost:8080/",
          "height": 35
        },
        "id": "td5CePHPXMmJ",
        "outputId": "df8bbd1b-4232-4d78-b047-5b8e0575b0d4"
      },
      "execution_count": 9,
      "outputs": [
        {
          "output_type": "execute_result",
          "data": {
            "text/plain": [
              "'\\nwith open(\"file.txt\", \"r\") as file:\\n    lines = file.readlines()  # Reads all lines into a list\\n\\nprint(lines)\\n'"
            ],
            "application/vnd.google.colaboratory.intrinsic+json": {
              "type": "string"
            }
          },
          "metadata": {},
          "execution_count": 9
        }
      ]
    },
    {
      "cell_type": "code",
      "source": [
        "#10. How can you append data to an existing file in Python?\n",
        "'''\n",
        "with open(\"file.txt\", \"a\") as file:\n",
        "    file.write(\"New line of text\\n\")\n",
        "'''\n"
      ],
      "metadata": {
        "colab": {
          "base_uri": "https://localhost:8080/",
          "height": 35
        },
        "id": "jbYMJrKwXYMq",
        "outputId": "6100574f-1770-456c-bc71-626920bce667"
      },
      "execution_count": 10,
      "outputs": [
        {
          "output_type": "execute_result",
          "data": {
            "text/plain": [
              "'\\nwith open(\"file.txt\", \"a\") as file:\\n    file.write(\"New line of text\\n\")\\n'"
            ],
            "application/vnd.google.colaboratory.intrinsic+json": {
              "type": "string"
            }
          },
          "metadata": {},
          "execution_count": 10
        }
      ]
    },
    {
      "cell_type": "code",
      "source": [
        "#11. Write a Python program that uses a try-except block to handle an error when attempting to access a dictionary key that doesn't exist.\n",
        "'''\n",
        "my_dict = {\"name\": \"Om\", \"age\": 17}\n",
        "\n",
        "try:\n",
        "    print(my_dict[\"city\"])\n",
        "except KeyError:\n",
        "    print(\"Error: Key 'city' not found in the dictionary.\")\n",
        "'''"
      ],
      "metadata": {
        "colab": {
          "base_uri": "https://localhost:8080/",
          "height": 35
        },
        "id": "IkJZb5lQXo1o",
        "outputId": "2c860db3-19dc-414a-d785-1a921df2648d"
      },
      "execution_count": 11,
      "outputs": [
        {
          "output_type": "execute_result",
          "data": {
            "text/plain": [
              "'\\nmy_dict = {\"name\": \"Om\", \"age\": 17}\\n\\ntry:\\n    print(my_dict[\"city\"])\\nexcept KeyError:\\n    print(\"Error: Key \\'city\\' not found in the dictionary.\")\\n'"
            ],
            "application/vnd.google.colaboratory.intrinsic+json": {
              "type": "string"
            }
          },
          "metadata": {},
          "execution_count": 11
        }
      ]
    },
    {
      "cell_type": "code",
      "source": [
        "#12. Write a program that demonstrates using multiple except blocks to handle different types of exceptions.\n",
        "'''\n",
        "try:\n",
        "    num = int(input(\"Enter a number: \"))\n",
        "    result = 10 / num\n",
        "    print(\"Result is:\", result)\n",
        "\n",
        "except ValueError:\n",
        "    print(\"Error: Please enter a valid number.\")\n",
        "\n",
        "except ZeroDivisionError:\n",
        "    print(\"Error: Cannot divide by zero.\")\n",
        "\n",
        "except Exception as e:\n",
        "    print(\"An unexpected error occurred:\", e)\n",
        "'''\n"
      ],
      "metadata": {
        "colab": {
          "base_uri": "https://localhost:8080/",
          "height": 70
        },
        "id": "c82J_MEBX7lN",
        "outputId": "e81af155-0697-445a-82fe-55aaaa332478"
      },
      "execution_count": 12,
      "outputs": [
        {
          "output_type": "execute_result",
          "data": {
            "text/plain": [
              "'\\ntry:\\n    num = int(input(\"Enter a number: \"))\\n    result = 10 / num\\n    print(\"Result is:\", result)\\n\\nexcept ValueError:\\n    print(\"Error: Please enter a valid number.\")\\n\\nexcept ZeroDivisionError:\\n    print(\"Error: Cannot divide by zero.\")\\n\\nexcept Exception as e:\\n    print(\"An unexpected error occurred:\", e)\\n'"
            ],
            "application/vnd.google.colaboratory.intrinsic+json": {
              "type": "string"
            }
          },
          "metadata": {},
          "execution_count": 12
        }
      ]
    },
    {
      "cell_type": "code",
      "source": [
        "#13. How would you check if a file exists before attempting to read it in Python?\n",
        "'''\n",
        "import os\n",
        "\n",
        "if os.path.exists(\"file.txt\"):\n",
        "    with open(\"file.txt\", \"r\") as file:\n",
        "        print(file.read())\n",
        "else:\n",
        "    print(\"File does not exist.\")\n",
        "'''\n"
      ],
      "metadata": {
        "colab": {
          "base_uri": "https://localhost:8080/",
          "height": 53
        },
        "id": "wc7FOvhZYI3y",
        "outputId": "47f0b3ab-38de-47c4-b0dd-786a1d93d6cd"
      },
      "execution_count": 13,
      "outputs": [
        {
          "output_type": "execute_result",
          "data": {
            "text/plain": [
              "'\\nimport os\\n\\nif os.path.exists(\"file.txt\"):\\n    with open(\"file.txt\", \"r\") as file:\\n        print(file.read())\\nelse:\\n    print(\"File does not exist.\")\\n'"
            ],
            "application/vnd.google.colaboratory.intrinsic+json": {
              "type": "string"
            }
          },
          "metadata": {},
          "execution_count": 13
        }
      ]
    },
    {
      "cell_type": "code",
      "source": [
        "#14. Write a program that uses the logging module to log both informational and error messages.\n",
        "'''\n",
        "import logging\n",
        "\n",
        "# Configure logging\n",
        "logging.basicConfig(filename='app.log', level=logging.DEBUG, format='%(levelname)s: %(message)s')\n",
        "\n",
        "# Log an informational message\n",
        "logging.info(\"The program started successfully.\")\n",
        "\n",
        "# Example code that could raise an error\n",
        "try:\n",
        "    x = 10 / 0\n",
        "except ZeroDivisionError as e:\n",
        "    logging.error(\"An error occurred: %s\", e)\n",
        "'''\n"
      ],
      "metadata": {
        "colab": {
          "base_uri": "https://localhost:8080/",
          "height": 70
        },
        "id": "avwJPdeBYa5A",
        "outputId": "f04046f4-4a0b-4363-ffd0-7389d2299925"
      },
      "execution_count": 14,
      "outputs": [
        {
          "output_type": "execute_result",
          "data": {
            "text/plain": [
              "'\\nimport logging\\n\\n# Configure logging\\nlogging.basicConfig(filename=\\'app.log\\', level=logging.DEBUG, format=\\'%(levelname)s: %(message)s\\')\\n\\n# Log an informational message\\nlogging.info(\"The program started successfully.\")\\n\\n# Example code that could raise an error\\ntry:\\n    x = 10 / 0\\nexcept ZeroDivisionError as e:\\n    logging.error(\"An error occurred: %s\", e)\\n'"
            ],
            "application/vnd.google.colaboratory.intrinsic+json": {
              "type": "string"
            }
          },
          "metadata": {},
          "execution_count": 14
        }
      ]
    },
    {
      "cell_type": "code",
      "source": [
        "#15. Write a Python program that prints the content of a file and handles the case when the file is empty.\n",
        "'''\n",
        "try:\n",
        "    with open(\"file.txt\", \"r\") as file:\n",
        "        content = file.read()\n",
        "        if content:\n",
        "            print(content)\n",
        "        else:\n",
        "            print(\"The file is empty.\")\n",
        "except FileNotFoundError:\n",
        "    print(\"Error: File not found.\")\n",
        "'''"
      ],
      "metadata": {
        "colab": {
          "base_uri": "https://localhost:8080/",
          "height": 53
        },
        "id": "jcw-659XYojo",
        "outputId": "77c62d43-47e8-4ccc-df74-61ad93e8b1fa"
      },
      "execution_count": 15,
      "outputs": [
        {
          "output_type": "execute_result",
          "data": {
            "text/plain": [
              "'\\ntry:\\n    with open(\"file.txt\", \"r\") as file:\\n        content = file.read()\\n        if content:\\n            print(content)\\n        else:\\n            print(\"The file is empty.\")\\nexcept FileNotFoundError:\\n    print(\"Error: File not found.\")\\n'"
            ],
            "application/vnd.google.colaboratory.intrinsic+json": {
              "type": "string"
            }
          },
          "metadata": {},
          "execution_count": 15
        }
      ]
    },
    {
      "cell_type": "code",
      "source": [
        "#16. Demonstrate how to use memory profiling to check the memory usage of a small program.\n",
        "'''\n",
        "from memory_profiler import profile\n",
        "\n",
        "@profile\n",
        "def create_list():\n",
        "    nums = [i for i in range(100000)]\n",
        "    return sum(nums)\n",
        "\n",
        "if __name__ == \"__main__\":\n",
        "    create_list()\n",
        "'''"
      ],
      "metadata": {
        "colab": {
          "base_uri": "https://localhost:8080/",
          "height": 53
        },
        "id": "fV98ni_gY645",
        "outputId": "3e1da4ba-3afa-44d8-e580-596621c0bee4"
      },
      "execution_count": 16,
      "outputs": [
        {
          "output_type": "execute_result",
          "data": {
            "text/plain": [
              "'\\nfrom memory_profiler import profile\\n\\n@profile\\ndef create_list():\\n    nums = [i for i in range(100000)]\\n    return sum(nums)\\n\\nif __name__ == \"__main__\":\\n    create_list()\\n'"
            ],
            "application/vnd.google.colaboratory.intrinsic+json": {
              "type": "string"
            }
          },
          "metadata": {},
          "execution_count": 16
        }
      ]
    },
    {
      "cell_type": "code",
      "source": [
        "#17. Write a Python program to create and write a list of numbers to a file, one number per line.\n",
        "'''\n",
        "numbers = [1, 2, 3, 4, 5]\n",
        "\n",
        "with open(\"numbers.txt\", \"w\") as file:\n",
        "    for num in numbers:\n",
        "        file.write(str(num) + \"\\n\")\n",
        "'''"
      ],
      "metadata": {
        "colab": {
          "base_uri": "https://localhost:8080/",
          "height": 35
        },
        "id": "dRzw2EONZ2oi",
        "outputId": "a80a8278-88ed-47f2-88e7-cc9adc0a5d96"
      },
      "execution_count": 17,
      "outputs": [
        {
          "output_type": "execute_result",
          "data": {
            "text/plain": [
              "'\\nnumbers = [1, 2, 3, 4, 5]\\n\\nwith open(\"numbers.txt\", \"w\") as file:\\n    for num in numbers:\\n        file.write(str(num) + \"\\n\")\\n'"
            ],
            "application/vnd.google.colaboratory.intrinsic+json": {
              "type": "string"
            }
          },
          "metadata": {},
          "execution_count": 17
        }
      ]
    },
    {
      "cell_type": "code",
      "source": [
        "#18. How would you implement a basic logging setup that logs to a file with rotation after 1MB?\n",
        "'''\n",
        "import logging\n",
        "from logging.handlers import RotatingFileHandler\n",
        "\n",
        "# Set up rotating log handler\n",
        "handler = RotatingFileHandler(\"app.log\", maxBytes=1_000_000, backupCount=3)\n",
        "logging.basicConfig(level=logging.INFO, handlers=[handler], format=\"%(asctime)s - %(levelname)s - %(message)s\")\n",
        "\n",
        "# Log some messages\n",
        "for i in range(10000):\n",
        "    logging.info(f\"Logging message number {i}\")\n",
        "'''\n"
      ],
      "metadata": {
        "colab": {
          "base_uri": "https://localhost:8080/",
          "height": 70
        },
        "id": "yt9qSkvDaCsQ",
        "outputId": "119cdcc2-7b2a-4e69-bf54-81964087526f"
      },
      "execution_count": 18,
      "outputs": [
        {
          "output_type": "execute_result",
          "data": {
            "text/plain": [
              "'\\nimport logging\\nfrom logging.handlers import RotatingFileHandler\\n\\n# Set up rotating log handler\\nhandler = RotatingFileHandler(\"app.log\", maxBytes=1_000_000, backupCount=3)\\nlogging.basicConfig(level=logging.INFO, handlers=[handler], format=\"%(asctime)s - %(levelname)s - %(message)s\")\\n\\n# Log some messages\\nfor i in range(10000):\\n    logging.info(f\"Logging message number {i}\")\\n'"
            ],
            "application/vnd.google.colaboratory.intrinsic+json": {
              "type": "string"
            }
          },
          "metadata": {},
          "execution_count": 18
        }
      ]
    },
    {
      "cell_type": "code",
      "source": [
        "#19. Write a program that handles both IndexError and KeyError using a try-except block.\n",
        "'''\n",
        "my_list = [1, 2, 3]\n",
        "my_dict = {\"a\": 10, \"b\": 20}\n",
        "\n",
        "try:\n",
        "    print(my_list[5])       # May raise IndexError\n",
        "    print(my_dict[\"c\"])     # May raise KeyError\n",
        "except IndexError:\n",
        "    print(\"Error: List index out of range.\")\n",
        "except KeyError:\n",
        "    print(\"Error: Key not found in dictionary.\")\n",
        "'''"
      ],
      "metadata": {
        "colab": {
          "base_uri": "https://localhost:8080/",
          "height": 53
        },
        "id": "wAjn3cBaaTAm",
        "outputId": "3fe52e1e-de4e-4b7a-ac3b-335be5daed5f"
      },
      "execution_count": 19,
      "outputs": [
        {
          "output_type": "execute_result",
          "data": {
            "text/plain": [
              "'\\nmy_list = [1, 2, 3]\\nmy_dict = {\"a\": 10, \"b\": 20}\\n\\ntry:\\n    print(my_list[5])       # May raise IndexError\\n    print(my_dict[\"c\"])     # May raise KeyError\\nexcept IndexError:\\n    print(\"Error: List index out of range.\")\\nexcept KeyError:\\n    print(\"Error: Key not found in dictionary.\")\\n'"
            ],
            "application/vnd.google.colaboratory.intrinsic+json": {
              "type": "string"
            }
          },
          "metadata": {},
          "execution_count": 19
        }
      ]
    },
    {
      "cell_type": "code",
      "source": [
        "#20. How would you open a file and read its contents using a context manager in Python?\n",
        "'''\n",
        "with open(\"file.txt\", \"r\") as file:\n",
        "    content = file.read()\n",
        "    print(content)\n",
        "'''\n"
      ],
      "metadata": {
        "colab": {
          "base_uri": "https://localhost:8080/",
          "height": 35
        },
        "id": "QYPAv1ygaeag",
        "outputId": "c62b8be9-358b-474c-9482-432ccc2a7c65"
      },
      "execution_count": 20,
      "outputs": [
        {
          "output_type": "execute_result",
          "data": {
            "text/plain": [
              "'\\nwith open(\"file.txt\", \"r\") as file:\\n    content = file.read()\\n    print(content)\\n'"
            ],
            "application/vnd.google.colaboratory.intrinsic+json": {
              "type": "string"
            }
          },
          "metadata": {},
          "execution_count": 20
        }
      ]
    },
    {
      "cell_type": "code",
      "source": [
        "#21. Write a Python program that reads a file and prints the number of occurrences of a specific word.\n",
        "'''\n",
        "word_to_count = \"python\"\n",
        "count = 0\n",
        "\n",
        "with open(\"file.txt\", \"r\") as file:\n",
        "    for line in file:\n",
        "        words = line.lower().split()\n",
        "        count += words.count(word_to_count.lower())\n",
        "\n",
        "print(f\"The word '{word_to_count}' occurs {count} times.\")\n",
        "'''"
      ],
      "metadata": {
        "colab": {
          "base_uri": "https://localhost:8080/",
          "height": 53
        },
        "id": "3z49rSd5a3SU",
        "outputId": "942c6097-9e6b-4d10-c6b2-88b9a3f2c5f6"
      },
      "execution_count": 21,
      "outputs": [
        {
          "output_type": "execute_result",
          "data": {
            "text/plain": [
              "'\\nword_to_count = \"python\"\\ncount = 0\\n\\nwith open(\"file.txt\", \"r\") as file:\\n    for line in file:\\n        words = line.lower().split()\\n        count += words.count(word_to_count.lower())\\n\\nprint(f\"The word \\'{word_to_count}\\' occurs {count} times.\")\\n'"
            ],
            "application/vnd.google.colaboratory.intrinsic+json": {
              "type": "string"
            }
          },
          "metadata": {},
          "execution_count": 21
        }
      ]
    },
    {
      "cell_type": "code",
      "source": [
        "#22. How can you check if a file is empty before attempting to read its contents?\n",
        "'''\n",
        "import os\n",
        "\n",
        "file_path = \"file.txt\"\n",
        "\n",
        "if os.path.exists(file_path) and os.path.getsize(file_path) > 0:\n",
        "    with open(file_path, \"r\") as file:\n",
        "        content = file.read()\n",
        "        print(content)\n",
        "else:\n",
        "    print(\"File is empty or does not exist.\")\n",
        "'''"
      ],
      "metadata": {
        "colab": {
          "base_uri": "https://localhost:8080/",
          "height": 53
        },
        "id": "8StaxybTbB8J",
        "outputId": "6b732aa4-6d2d-4e7c-e73c-b74156d79bea"
      },
      "execution_count": 22,
      "outputs": [
        {
          "output_type": "execute_result",
          "data": {
            "text/plain": [
              "'\\nimport os\\n\\nfile_path = \"file.txt\"\\n\\nif os.path.exists(file_path) and os.path.getsize(file_path) > 0:\\n    with open(file_path, \"r\") as file:\\n        content = file.read()\\n        print(content)\\nelse:\\n    print(\"File is empty or does not exist.\")\\n'"
            ],
            "application/vnd.google.colaboratory.intrinsic+json": {
              "type": "string"
            }
          },
          "metadata": {},
          "execution_count": 22
        }
      ]
    },
    {
      "cell_type": "code",
      "source": [
        "#23. Write a Python program that writes to a log file when an error occurs during file handling.\n",
        "'''\n",
        "import logging\n",
        "\n",
        "logging.basicConfig(filename='file_errors.log', level=logging.ERROR, format='%(asctime)s - %(levelname)s - %(message)s')\n",
        "\n",
        "try:\n",
        "    with open(\"nonexistent_file.txt\", \"r\") as file:\n",
        "        content = file.read()\n",
        "except Exception as e:\n",
        "    logging.error(\"Error while handling file: %s\", e)\n",
        "'''\n"
      ],
      "metadata": {
        "colab": {
          "base_uri": "https://localhost:8080/",
          "height": 53
        },
        "id": "X4rdMWhqbQh9",
        "outputId": "7c249886-c40a-4b1a-8630-1c1cc30b4cc0"
      },
      "execution_count": 23,
      "outputs": [
        {
          "output_type": "execute_result",
          "data": {
            "text/plain": [
              "'\\nimport logging\\n\\nlogging.basicConfig(filename=\\'file_errors.log\\', level=logging.ERROR, format=\\'%(asctime)s - %(levelname)s - %(message)s\\')\\n\\ntry:\\n    with open(\"nonexistent_file.txt\", \"r\") as file:\\n        content = file.read()\\nexcept Exception as e:\\n    logging.error(\"Error while handling file: %s\", e)\\n'"
            ],
            "application/vnd.google.colaboratory.intrinsic+json": {
              "type": "string"
            }
          },
          "metadata": {},
          "execution_count": 23
        }
      ]
    },
    {
      "cell_type": "code",
      "source": [],
      "metadata": {
        "id": "5doUgDAJbZgL"
      },
      "execution_count": null,
      "outputs": []
    }
  ]
}